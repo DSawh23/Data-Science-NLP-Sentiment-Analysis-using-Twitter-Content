{
 "cells": [
  {
   "cell_type": "markdown",
   "metadata": {},
   "source": [
    "# Stock Quotes\n",
    "Group number 9\n",
    "\n",
    "Group members Jordan Bickelhaupt Evelina Ramoskaite Dave Sawh Andrew Schiek\n",
    "\n",
    "jordanrbickelhaupt@gmail.com evelina.ramoskaite@gmail.com devindrasawh@gmail.com aschiek1@depaul.edu\n",
    "\n"
   ]
  },
  {
   "cell_type": "code",
   "execution_count": null,
   "metadata": {},
   "outputs": [],
   "source": [
    "# Getting Stocks from Yahoo Finance\n",
    "\n",
    "import yfinance as yf\n",
    "import numpy\n",
    "import pandas\n",
    "\n",
    "def get_price(ticker):\n",
    "    # setting the ticker\n",
    "    stock = yf.Ticker(f\"{ticker}\")\n",
    "\n",
    "    # printing stock info\n",
    "    print(stock.info)\n",
    "\n",
    "    # getting historical data\n",
    "    # last 5 days in 60 minute intervals\n",
    "    # can also use start/end, yyyy-mm-dd string\n",
    "    hist = stock.history(period=\"1d\",start = '2021-05-03',end= '2021-05-04',interval=\"1h\")\n",
    "    hist.to_csv(f'{ticker} prices.csv')"
   ]
  },
  {
   "cell_type": "code",
   "execution_count": null,
   "metadata": {},
   "outputs": [],
   "source": [
    "get_price('GME')"
   ]
  }
 ],
 "metadata": {
  "kernelspec": {
   "display_name": "Python 3",
   "language": "python",
   "name": "python3"
  },
  "language_info": {
   "codemirror_mode": {
    "name": "ipython",
    "version": 3
   },
   "file_extension": ".py",
   "mimetype": "text/x-python",
   "name": "python",
   "nbconvert_exporter": "python",
   "pygments_lexer": "ipython3",
   "version": "3.8.5"
  }
 },
 "nbformat": 4,
 "nbformat_minor": 4
}
